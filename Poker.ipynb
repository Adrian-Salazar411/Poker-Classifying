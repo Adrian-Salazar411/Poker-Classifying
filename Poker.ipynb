{
 "cells": [
  {
   "cell_type": "code",
   "execution_count": 1,
   "metadata": {},
   "outputs": [],
   "source": [
    "import pandas as pd\n",
    "import seaborn as sns\n",
    "import numpy as np\n",
    "import matplotlib.pyplot as plt\n",
    "from sklearn.metrics import accuracy_score, confusion_matrix,classification_report \n",
    "import lightgbm as lgb\n",
    "import xgboost as xgb\n",
    "from sklearn.preprocessing import LabelEncoder\n",
    "from sklearn.model_selection import StratifiedKFold, KFold, RepeatedKFold, train_test_split, GroupKFold, GroupShuffleSplit,StratifiedShuffleSplit\n",
    "from catboost import CatBoostClassifier\n",
    "from sklearn.ensemble import RandomForestClassifier\n",
    "import warnings\n",
    "warnings.filterwarnings('ignore')\n",
    "from bayes_opt import BayesianOptimization\n",
    "import torch\n",
    "import torch.nn as nn\n",
    "import torch.nn.functional as F"
   ]
  },
  {
   "cell_type": "code",
   "execution_count": 2,
   "metadata": {},
   "outputs": [],
   "source": [
    "test = pd.read_csv('poker-hand-testing.data')\n",
    "train = pd.read_csv('poker-hand-training-true.data')"
   ]
  },
  {
   "cell_type": "code",
   "execution_count": 3,
   "metadata": {
    "scrolled": true
   },
   "outputs": [
    {
     "data": {
      "image/png": "[encoded data removed]",
      "text/plain": [
       "<Figure size 432x288 with 1 Axes>"
      ]
     },
     "metadata": {
      "needs_background": "light"
     },
     "output_type": "display_data"
    }
   ],
   "source": [
    "#From the count plot we can see that there is a really big class imbalance in the training data set.\n",
    "#In order to deal with this, a stratifiedshuffle split will be used on our dataset to ensure that \n",
    "#at least some of the samples make it into both the training and validation sets.\n",
    "sns.countplot('9',data=train)\n",
    "plt.xlabel('Hands')\n",
    "plt.show()"
   ]
  },
  {
   "cell_type": "code",
   "execution_count": 32,
   "metadata": {},
   "outputs": [],
   "source": [
    "y = train['9']\n",
    "X = train.drop('9',axis=1)\n",
    "folds = StratifiedShuffleSplit(n_splits=4, test_size=0.2)"
   ]
  },
  {
   "cell_type": "code",
   "execution_count": 33,
   "metadata": {},
   "outputs": [],
   "source": [
    "def lgbm_evaluate(**params):\n",
    "    warnings.simplefilter('ignore')\n",
    "    \n",
    "    params['num_leaves'] = int(params['num_leaves'])\n",
    "    params['max_depth'] = int(params['max_depth'])\n",
    "        \n",
    "    clf = lgb.LGBMClassifier(**params, n_estimators=20000, nthread=-1)\n",
    "\n",
    "    test_pred_proba = np.zeros((train.shape[0], 10))\n",
    "    \n",
    "    for n_fold, (train_idx, valid_idx) in enumerate(folds.split(train, y)):\n",
    "        X_train, X_valid = X.iloc[train_idx], X.iloc[valid_idx]\n",
    "        y_train, y_valid = y.iloc[train_idx], y.iloc[valid_idx]\n",
    "        \n",
    "        model = lgb.LGBMClassifier(**params, n_estimators = 10000, n_jobs = -1)\n",
    "        model.fit(X_train, y_train, \n",
    "                eval_set=[(X_train, y_train), (X_valid, y_valid)], eval_metric='multi_logloss',\n",
    "                verbose=False, early_stopping_rounds=200)\n",
    "\n",
    "        y_pred_valid = model.predict_proba(X_valid)\n",
    "\n",
    "        test_pred_proba[valid_idx] = y_pred_valid\n",
    "\n",
    "    return accuracy_score(y_valid, y_pred_valid.argmax(1))"
   ]
  },
  {
   "cell_type": "code",
   "execution_count": 34,
   "metadata": {},
   "outputs": [],
   "source": [
    "# params = {'colsample_bytree': (0.6, 0.8),\n",
    "#       'learning_rate': (.0001, .5), \n",
    "#       'num_leaves': (2, 124), \n",
    "#       'subsample': (0.6, 1), \n",
    "#       'max_depth': (3, 120), \n",
    "#       'reg_alpha': (.001, 15.0), \n",
    "#       'reg_lambda': (.001, 15.0), \n",
    "#       'min_split_gain': (.001, .03),\n",
    "#       'min_child_weight': (2, 80)}\n",
    "\n",
    "# bo = BayesianOptimization(lgbm_evaluate, params)\n",
    "# bo.maximize(init_points=5, n_iter=10)"
   ]
  },
  {
   "cell_type": "code",
   "execution_count": 35,
   "metadata": {},
   "outputs": [],
   "source": [
    "# params = bo.max['params']\n",
    "# params['num_leaves'] = 4\n",
    "# params['max_depth'] =5\n",
    "# test_pred_proba = np.zeros((train.shape[0], 10))\n",
    "# folds = StratifiedShuffleSplit(n_splits=4, test_size=0.2)\n",
    "# for n_fold, (train_idx, valid_idx) in enumerate(folds.split(train, y)):\n",
    "#         X_train, X_valid = X.iloc[train_idx], X.iloc[valid_idx]\n",
    "#         y_train, y_valid = y.iloc[train_idx], y.iloc[valid_idx]\n",
    "        \n",
    "#         model = lgb.LGBMClassifier(**params, n_estimators = 10000, n_jobs = -1)\n",
    "#         model.fit(X_train, y_train, \n",
    "#                 eval_set=[(X_train, y_train), (X_valid, y_valid)], eval_metric='multi_logloss',\n",
    "#                 verbose=False, early_stopping_rounds=200)\n",
    "\n",
    "#         y_pred_valid = model.predict_proba(X_valid)\n",
    "\n",
    "#         test_pred_proba[valid_idx] = y_pred_valid\n",
    "\n",
    "#         print(accuracy_score(y_valid, y_pred_valid.argmax(1)))"
   ]
  },
  {
   "cell_type": "code",
   "execution_count": 36,
   "metadata": {},
   "outputs": [],
   "source": [
    "# y = test['0']\n",
    "# X = test.drop('0',axis=1)\n",
    "# test_pred_proba = np.zeros((test.shape[0], 10))\n",
    "# y_pred_valid = model.predict_proba(X)\n",
    "# #test_pred_proba[valid_idx] = y_pred_valid\n",
    "# print(accuracy_score(y, y_pred_valid.argmax(1)))"
   ]
  },
  {
   "cell_type": "code",
   "execution_count": 37,
   "metadata": {},
   "outputs": [],
   "source": [
    "# cm = confusion_matrix(y,y_pred_valid.argmax(1))\n",
    "# df_cm = pd.DataFrame(cm)\n",
    "# plt.figure(figsize = (15,10))\n",
    "# sns.heatmap(df_cm, annot=True, cmap = 'magma', fmt='g')"
   ]
  },
  {
   "cell_type": "code",
   "execution_count": 38,
   "metadata": {},
   "outputs": [],
   "source": [
    "# After Bayesian Optimization, the this lightGBM model could only predict ~65.5% accuracy\n",
    "#This could be because random forest struggles with fitting models that have \n",
    "#high class imbalances "
   ]
  },
  {
   "cell_type": "code",
   "execution_count": 39,
   "metadata": {},
   "outputs": [],
   "source": [
    "X_train = torch.from_numpy(X.values.astype(np.float32))\n",
    "y = torch.from_numpy(y.values)"
   ]
  },
  {
   "cell_type": "code",
   "execution_count": 44,
   "metadata": {},
   "outputs": [],
   "source": [
    "class NeuralNet(nn.Module):\n",
    "    def __init__(self, input_size, hidden_size1,hidden_size2,hidden_size3, num_classes):\n",
    "        super(NeuralNet, self).__init__()\n",
    "        self.layer1 = nn.Linear(input_size, hidden_size1)\n",
    "        self.relu1 = nn.ReLU()\n",
    "        self.layer2 = nn.Linear(hidden_size2, hidden_size3)\n",
    "        self.relu2 = nn.ReLU()\n",
    "        self.layer3 = nn.Linear(hidden_size3,num_classes)\n",
    "        self.sigmoid = nn.Sigmoid()\n",
    "        #self.softmax1 = nn.Softmax()\n",
    "    def forward(self, x):\n",
    "        out = self.layer1(x)\n",
    "        out = self.relu1(out)\n",
    "        out = self.layer2(out)\n",
    "        out = self.relu2(out)\n",
    "        out = self.layer3(out)\n",
    "        out = self.sigmoid(out)\n",
    "        #out = self.softmax1(out)\n",
    "        return out"
   ]
  },
  {
   "cell_type": "code",
   "execution_count": 88,
   "metadata": {},
   "outputs": [],
   "source": [
    "weights = torch.Tensor(1/(train['9'].value_counts()/len(train)))\n",
    "model = NeuralNet(10,50,50,50,10)\n",
    "optimizer = torch.optim.SGD(model.parameters(), lr=0.5)\n",
    "criterion = torch.nn.CrossEntropyLoss(weight=torch.Tensor(weights))"
   ]
  },
  {
   "cell_type": "code",
   "execution_count": 89,
   "metadata": {},
   "outputs": [
    {
     "name": "stdout",
     "output_type": "stream",
     "text": [
      "epoch:  0  loss:  2.3061163425445557\n",
      "epoch:  10  loss:  2.2658588886260986\n",
      "epoch:  20  loss:  2.2342562675476074\n",
      "epoch:  30  loss:  2.2027528285980225\n",
      "epoch:  40  loss:  2.18245267868042\n",
      "epoch:  50  loss:  2.155003070831299\n",
      "epoch:  60  loss:  2.1302554607391357\n",
      "epoch:  70  loss:  2.1091997623443604\n",
      "epoch:  80  loss:  2.0885026454925537\n",
      "epoch:  90  loss:  2.0762670040130615\n",
      "epoch:  100  loss:  2.0672852993011475\n",
      "epoch:  110  loss:  2.030315399169922\n",
      "epoch:  120  loss:  2.0333240032196045\n",
      "epoch:  130  loss:  2.019164800643921\n",
      "epoch:  140  loss:  2.0085742473602295\n",
      "epoch:  150  loss:  1.986789345741272\n",
      "epoch:  160  loss:  2.0354533195495605\n",
      "epoch:  170  loss:  1.9649807214736938\n",
      "epoch:  180  loss:  1.9957085847854614\n",
      "epoch:  190  loss:  1.9863743782043457\n",
      "epoch:  200  loss:  1.9437044858932495\n",
      "epoch:  210  loss:  1.9431495666503906\n",
      "epoch:  220  loss:  1.9394742250442505\n",
      "epoch:  230  loss:  1.943398356437683\n",
      "epoch:  240  loss:  1.9324588775634766\n",
      "epoch:  250  loss:  1.9206898212432861\n",
      "epoch:  260  loss:  1.916481375694275\n",
      "epoch:  270  loss:  1.9130443334579468\n",
      "epoch:  280  loss:  1.9108541011810303\n",
      "epoch:  290  loss:  1.9149487018585205\n",
      "epoch:  300  loss:  1.9038485288619995\n",
      "epoch:  310  loss:  1.9020181894302368\n",
      "epoch:  320  loss:  1.8984941244125366\n",
      "epoch:  330  loss:  1.8919020891189575\n",
      "epoch:  340  loss:  1.8953622579574585\n",
      "epoch:  350  loss:  1.8855583667755127\n",
      "epoch:  360  loss:  1.8887853622436523\n",
      "epoch:  370  loss:  1.8833084106445312\n",
      "epoch:  380  loss:  1.880481243133545\n",
      "epoch:  390  loss:  1.8787723779678345\n",
      "epoch:  400  loss:  1.87885320186615\n",
      "epoch:  410  loss:  1.8716824054718018\n",
      "epoch:  420  loss:  1.8808943033218384\n",
      "epoch:  430  loss:  1.8718352317810059\n",
      "epoch:  440  loss:  1.865860939025879\n",
      "epoch:  450  loss:  1.877294659614563\n",
      "epoch:  460  loss:  1.8679921627044678\n",
      "epoch:  470  loss:  1.8652567863464355\n",
      "epoch:  480  loss:  1.874114751815796\n",
      "epoch:  490  loss:  1.859928011894226\n"
     ]
    }
   ],
   "source": [
    "\n",
    "for epoch in range(500):\n",
    "    # Forward Propagation\n",
    "    y_pred = model(X_train)\n",
    "    # Compute and print loss\n",
    "    loss = criterion(y_pred, y)\n",
    "    if epoch %10 == 0:\n",
    "        print('epoch: ', epoch,' loss: ', loss.item())\n",
    "    # Zero the gradients\n",
    "    optimizer.zero_grad()\n",
    "    \n",
    "    # perform a backward pass (backpropagation)\n",
    "    loss.backward()\n",
    "    \n",
    "    # Update the parameters\n",
    "    optimizer.step()"
   ]
  },
  {
   "cell_type": "code",
   "execution_count": 90,
   "metadata": {},
   "outputs": [],
   "source": [
    "X_test = torch.from_numpy(test.drop('0',axis=1).values.astype(np.float32))\n",
    "y_test = torch.from_numpy(test['0'].values)"
   ]
  },
  {
   "cell_type": "code",
   "execution_count": 91,
   "metadata": {},
   "outputs": [],
   "source": [
    "y_pred = model(X_test)\n",
    "y_pred = pd.Series(torch.max(y_pred,1)[1].numpy())"
   ]
  },
  {
   "cell_type": "code",
   "execution_count": 92,
   "metadata": {},
   "outputs": [
    {
     "name": "stdout",
     "output_type": "stream",
     "text": [
      "              precision    recall  f1-score   support\n",
      "\n",
      "           0       0.56      0.27      0.37    501208\n",
      "           1       0.40      0.28      0.33    422498\n",
      "           2       0.05      0.11      0.06     47622\n",
      "           3       0.03      0.17      0.05     21121\n",
      "           4       0.04      0.37      0.08      3885\n",
      "           5       0.00      0.06      0.00      1996\n",
      "           6       0.00      0.14      0.00      1424\n",
      "           7       0.00      0.06      0.00       230\n",
      "           8       0.00      0.00      0.00        12\n",
      "           9       0.00      0.33      0.00         3\n",
      "\n",
      "   micro avg       0.27      0.27      0.27    999999\n",
      "   macro avg       0.11      0.18      0.09    999999\n",
      "weighted avg       0.45      0.27      0.33    999999\n",
      "\n"
     ]
    }
   ],
   "source": [
    "print(classification_report(y_test,y_pred,labels = y.unique()))"
   ]
  },
  {
   "cell_type": "code",
   "execution_count": 93,
   "metadata": {},
   "outputs": [
    {
     "data": {
      "image/png": "[encoded data removed]",
      "text/plain": [
       "<Figure size 1080x720 with 2 Axes>"
      ]
     },
     "metadata": {
      "needs_background": "light"
     },
     "output_type": "display_data"
    }
   ],
   "source": [
    "cm = confusion_matrix(y_test,y_pred)\n",
    "df_cm = pd.DataFrame(cm)\n",
    "plt.figure(figsize = (15,10))\n",
    "sns.heatmap(df_cm, annot=True, cmap = 'magma', fmt='g')\n",
    "plt.show()"
   ]
  },
  {
   "cell_type": "code",
   "execution_count": null,
   "metadata": {},
   "outputs": [],
   "source": []
  }
 ],
 "metadata": {
  "kernelspec": {
   "display_name": "Python 3",
   "language": "python",
   "name": "python3"
  },
  "language_info": {
   "codemirror_mode": {
    "name": "ipython",
    "version": 3
   },
   "file_extension": ".py",
   "mimetype": "text/x-python",
   "name": "python",
   "nbconvert_exporter": "python",
   "pygments_lexer": "ipython3",
   "version": "3.6.8"
  }
 },
 "nbformat": 4,
 "nbformat_minor": 2
}
