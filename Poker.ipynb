{
 "cells": [
  {
   "cell_type": "code",
   "execution_count": 1,
   "metadata": {},
   "outputs": [
    {
     "name": "stderr",
     "output_type": "stream",
     "text": [
      "C:\\Users\\lib-moffcirc\\AppData\\Local\\Continuum\\anaconda3\\lib\\site-packages\\sklearn\\ensemble\\weight_boosting.py:29: DeprecationWarning: numpy.core.umath_tests is an internal NumPy module and should not be imported. It will be removed in a future NumPy release.\n",
      "  from numpy.core.umath_tests import inner1d\n"
     ]
    }
   ],
   "source": [
    "import pandas as pd\n",
    "import seaborn as sns\n",
    "import numpy as np\n",
    "import matplotlib.pyplot as plt\n",
    "from sklearn.metrics import accuracy_score, confusion_matrix\n",
    "import lightgbm as lgb\n",
    "import xgboost as xgb\n",
    "from sklearn.preprocessing import LabelEncoder\n",
    "from sklearn.model_selection import StratifiedKFold, KFold, RepeatedKFold, train_test_split, GroupKFold, GroupShuffleSplit,StratifiedShuffleSplit\n",
    "from catboost import CatBoostClassifier\n",
    "from sklearn.ensemble import RandomForestClassifier\n",
    "import warnings\n",
    "warnings.filterwarnings('ignore')\n",
    "from bayes_opt import BayesianOptimization"
   ]
  },
  {
   "cell_type": "code",
   "execution_count": 2,
   "metadata": {},
   "outputs": [],
   "source": [
    "test = pd.read_csv('poker-hand-testing.data')\n",
    "train = pd.read_csv('poker-hand-training-true.data')"
   ]
  },
  {
   "cell_type": "code",
   "execution_count": 3,
   "metadata": {
    "scrolled": true
   },
   "outputs": [
    {
     "data": {
      "text/plain": [
       "Text(0.5,0,'Hands')"
      ]
     },
     "execution_count": 3,
     "metadata": {},
     "output_type": "execute_result"
    },
    {
     "data": {
      "image/png": "[encoded data removed]",
      "text/plain": [
       "<Figure size 432x288 with 1 Axes>"
      ]
     },
     "metadata": {
      "needs_background": "light"
     },
     "output_type": "display_data"
    }
   ],
   "source": [
    "#From the count plot we can see that there is a really big class imbalance in the training data set.\n",
    "#In order to deal with this, a stratifiedshuffle split will be used on our dataset to ensure that \n",
    "#at least some of the samples make it into both the training and validation sets.\n",
    "sns.countplot('9',data=train)\n",
    "plt.xlabel('Hands')"
   ]
  },
  {
   "cell_type": "code",
   "execution_count": 30,
   "metadata": {},
   "outputs": [],
   "source": [
    "y = train['9']\n",
    "X = train.drop('9',axis=1)\n",
    "folds = StratifiedShuffleSplit(n_splits=4, test_size=0.2)"
   ]
  },
  {
   "cell_type": "code",
   "execution_count": 36,
   "metadata": {},
   "outputs": [],
   "source": [
    "def lgbm_evaluate(**params):\n",
    "    warnings.simplefilter('ignore')\n",
    "    \n",
    "    params['num_leaves'] = int(params['num_leaves'])\n",
    "    params['max_depth'] = int(params['max_depth'])\n",
    "        \n",
    "    clf = lgb.LGBMClassifier(**params, n_estimators=20000, nthread=-1)\n",
    "\n",
    "    test_pred_proba = np.zeros((train.shape[0], 10))\n",
    "    \n",
    "    for n_fold, (train_idx, valid_idx) in enumerate(folds.split(train, y)):\n",
    "        X_train, X_valid = train.iloc[train_idx], train.iloc[valid_idx]\n",
    "        y_train, y_valid = y.iloc[train_idx], y.iloc[valid_idx]\n",
    "        \n",
    "        model = lgb.LGBMClassifier(**params, n_estimators = 10000, n_jobs = -1)\n",
    "        model.fit(X_train, y_train, \n",
    "                eval_set=[(X_train, y_train), (X_valid, y_valid)], eval_metric='multi_logloss',\n",
    "                verbose=False, early_stopping_rounds=200)\n",
    "\n",
    "        y_pred_valid = model.predict_proba(X_valid)\n",
    "\n",
    "        test_pred_proba[valid_idx] = y_pred_valid\n",
    "\n",
    "    return accuracy_score(y_valid, y_pred_valid.argmax(1))"
   ]
  },
  {
   "cell_type": "code",
   "execution_count": 37,
   "metadata": {},
   "outputs": [
    {
     "name": "stdout",
     "output_type": "stream",
     "text": [
      "|   iter    |  target   | colsam... | learni... | max_depth | min_ch... | min_sp... | num_le... | reg_alpha | reg_la... | subsample |\n",
      "-------------------------------------------------------------------------------------------------------------------------------------\n",
      "| \u001b[0m 1       \u001b[0m | \u001b[0m 0.9956  \u001b[0m | \u001b[0m 0.6865  \u001b[0m | \u001b[0m 0.3218  \u001b[0m | \u001b[0m 63.82   \u001b[0m | \u001b[0m 28.76   \u001b[0m | \u001b[0m 0.004432\u001b[0m | \u001b[0m 96.04   \u001b[0m | \u001b[0m 11.43   \u001b[0m | \u001b[0m 0.22    \u001b[0m | \u001b[0m 0.8725  \u001b[0m |\n",
      "| \u001b[95m 2       \u001b[0m | \u001b[95m 0.9972  \u001b[0m | \u001b[95m 0.7277  \u001b[0m | \u001b[95m 0.1659  \u001b[0m | \u001b[95m 73.21   \u001b[0m | \u001b[95m 8.345   \u001b[0m | \u001b[95m 0.02647 \u001b[0m | \u001b[95m 65.33   \u001b[0m | \u001b[95m 9.718   \u001b[0m | \u001b[95m 12.78   \u001b[0m | \u001b[95m 0.8024  \u001b[0m |\n",
      "| \u001b[0m 3       \u001b[0m | \u001b[0m 0.992   \u001b[0m | \u001b[0m 0.6412  \u001b[0m | \u001b[0m 0.4305  \u001b[0m | \u001b[0m 59.97   \u001b[0m | \u001b[0m 74.17   \u001b[0m | \u001b[0m 0.004681\u001b[0m | \u001b[0m 50.4    \u001b[0m | \u001b[0m 5.32    \u001b[0m | \u001b[0m 0.8157  \u001b[0m | \u001b[0m 0.8644  \u001b[0m |\n",
      "| \u001b[0m 4       \u001b[0m | \u001b[0m 0.992   \u001b[0m | \u001b[0m 0.6204  \u001b[0m | \u001b[0m 0.1584  \u001b[0m | \u001b[0m 10.89   \u001b[0m | \u001b[0m 77.19   \u001b[0m | \u001b[0m 0.008557\u001b[0m | \u001b[0m 71.35   \u001b[0m | \u001b[0m 10.63   \u001b[0m | \u001b[0m 8.097   \u001b[0m | \u001b[0m 0.972   \u001b[0m |\n",
      "| \u001b[0m 5       \u001b[0m | \u001b[0m 0.9956  \u001b[0m | \u001b[0m 0.615   \u001b[0m | \u001b[0m 0.03954 \u001b[0m | \u001b[0m 29.72   \u001b[0m | \u001b[0m 28.61   \u001b[0m | \u001b[0m 0.006927\u001b[0m | \u001b[0m 118.6   \u001b[0m | \u001b[0m 7.676   \u001b[0m | \u001b[0m 14.92   \u001b[0m | \u001b[0m 0.9461  \u001b[0m |\n",
      "| \u001b[95m 6       \u001b[0m | \u001b[95m 0.9992  \u001b[0m | \u001b[95m 0.6511  \u001b[0m | \u001b[95m 0.03653 \u001b[0m | \u001b[95m 3.287   \u001b[0m | \u001b[95m 3.048   \u001b[0m | \u001b[95m 0.01552 \u001b[0m | \u001b[95m 3.343   \u001b[0m | \u001b[95m 4.465   \u001b[0m | \u001b[95m 7.744   \u001b[0m | \u001b[95m 0.8996  \u001b[0m |\n",
      "| \u001b[0m 7       \u001b[0m | \u001b[0m 0.9992  \u001b[0m | \u001b[0m 0.7227  \u001b[0m | \u001b[0m 0.09474 \u001b[0m | \u001b[0m 116.6   \u001b[0m | \u001b[0m 2.263   \u001b[0m | \u001b[0m 0.02265 \u001b[0m | \u001b[0m 3.176   \u001b[0m | \u001b[0m 2.587   \u001b[0m | \u001b[0m 11.77   \u001b[0m | \u001b[0m 0.6515  \u001b[0m |\n",
      "| \u001b[0m 8       \u001b[0m | \u001b[0m 0.9972  \u001b[0m | \u001b[0m 0.6118  \u001b[0m | \u001b[0m 0.4369  \u001b[0m | \u001b[0m 3.148   \u001b[0m | \u001b[0m 4.207   \u001b[0m | \u001b[0m 0.02239 \u001b[0m | \u001b[0m 2.506   \u001b[0m | \u001b[0m 13.28   \u001b[0m | \u001b[0m 0.1637  \u001b[0m | \u001b[0m 0.9395  \u001b[0m |\n",
      "| \u001b[0m 9       \u001b[0m | \u001b[0m 0.9992  \u001b[0m | \u001b[0m 0.7453  \u001b[0m | \u001b[0m 0.03179 \u001b[0m | \u001b[0m 117.6   \u001b[0m | \u001b[0m 2.691   \u001b[0m | \u001b[0m 0.005649\u001b[0m | \u001b[0m 4.707   \u001b[0m | \u001b[0m 2.961   \u001b[0m | \u001b[0m 10.66   \u001b[0m | \u001b[0m 0.8623  \u001b[0m |\n",
      "| \u001b[0m 10      \u001b[0m | \u001b[0m 0.9972  \u001b[0m | \u001b[0m 0.7698  \u001b[0m | \u001b[0m 0.1158  \u001b[0m | \u001b[0m 118.9   \u001b[0m | \u001b[0m 2.144   \u001b[0m | \u001b[0m 0.02629 \u001b[0m | \u001b[0m 11.88   \u001b[0m | \u001b[0m 13.54   \u001b[0m | \u001b[0m 14.02   \u001b[0m | \u001b[0m 0.9414  \u001b[0m |\n",
      "| \u001b[0m 11      \u001b[0m | \u001b[0m 0.9992  \u001b[0m | \u001b[0m 0.6801  \u001b[0m | \u001b[0m 0.4855  \u001b[0m | \u001b[0m 119.8   \u001b[0m | \u001b[0m 2.221   \u001b[0m | \u001b[0m 0.01763 \u001b[0m | \u001b[0m 121.0   \u001b[0m | \u001b[0m 1.192   \u001b[0m | \u001b[0m 2.397   \u001b[0m | \u001b[0m 0.6271  \u001b[0m |\n",
      "| \u001b[0m 12      \u001b[0m | \u001b[0m 0.9992  \u001b[0m | \u001b[0m 0.6224  \u001b[0m | \u001b[0m 0.3677  \u001b[0m | \u001b[0m 116.5   \u001b[0m | \u001b[0m 2.207   \u001b[0m | \u001b[0m 0.0223  \u001b[0m | \u001b[0m 119.4   \u001b[0m | \u001b[0m 0.1553  \u001b[0m | \u001b[0m 1.864   \u001b[0m | \u001b[0m 0.7296  \u001b[0m |\n",
      "| \u001b[0m 13      \u001b[0m | \u001b[0m 0.9992  \u001b[0m | \u001b[0m 0.7892  \u001b[0m | \u001b[0m 0.2365  \u001b[0m | \u001b[0m 4.304   \u001b[0m | \u001b[0m 2.229   \u001b[0m | \u001b[0m 0.026   \u001b[0m | \u001b[0m 113.7   \u001b[0m | \u001b[0m 0.9043  \u001b[0m | \u001b[0m 4.098   \u001b[0m | \u001b[0m 0.982   \u001b[0m |\n",
      "| \u001b[0m 14      \u001b[0m | \u001b[0m 0.9992  \u001b[0m | \u001b[0m 0.6369  \u001b[0m | \u001b[0m 0.133   \u001b[0m | \u001b[0m 7.725   \u001b[0m | \u001b[0m 2.178   \u001b[0m | \u001b[0m 0.01579 \u001b[0m | \u001b[0m 6.061   \u001b[0m | \u001b[0m 0.9645  \u001b[0m | \u001b[0m 13.76   \u001b[0m | \u001b[0m 0.8249  \u001b[0m |\n",
      "| \u001b[0m 15      \u001b[0m | \u001b[0m 0.9992  \u001b[0m | \u001b[0m 0.6299  \u001b[0m | \u001b[0m 0.1803  \u001b[0m | \u001b[0m 7.223   \u001b[0m | \u001b[0m 2.092   \u001b[0m | \u001b[0m 0.01817 \u001b[0m | \u001b[0m 114.5   \u001b[0m | \u001b[0m 0.9352  \u001b[0m | \u001b[0m 13.47   \u001b[0m | \u001b[0m 0.6023  \u001b[0m |\n",
      "=====================================================================================================================================\n"
     ]
    }
   ],
   "source": [
    "params = {'colsample_bytree': (0.6, 0.8),\n",
    "      'learning_rate': (.0001, .5), \n",
    "      'num_leaves': (2, 124), \n",
    "      'subsample': (0.6, 1), \n",
    "      'max_depth': (3, 120), \n",
    "      'reg_alpha': (.001, 15.0), \n",
    "      'reg_lambda': (.001, 15.0), \n",
    "      'min_split_gain': (.001, .03),\n",
    "      'min_child_weight': (2, 80)}\n",
    "\n",
    "bo = BayesianOptimization(lgbm_evaluate, params)\n",
    "bo.maximize(init_points=5, n_iter=10)"
   ]
  },
  {
   "cell_type": "code",
   "execution_count": 38,
   "metadata": {},
   "outputs": [
    {
     "data": {
      "text/plain": [
       "{'colsample_bytree': 0.6510667337994955,\n",
       " 'learning_rate': 0.036530371482843646,\n",
       " 'max_depth': 3.2872457985145798,\n",
       " 'min_child_weight': 3.048022537496118,\n",
       " 'min_split_gain': 0.015520498603420661,\n",
       " 'num_leaves': 3.3434882559535626,\n",
       " 'reg_alpha': 4.465244555468376,\n",
       " 'reg_lambda': 7.744230864916542,\n",
       " 'subsample': 0.8996181437248253}"
      ]
     },
     "execution_count": 38,
     "metadata": {},
     "output_type": "execute_result"
    }
   ],
   "source": [
    "bo.max['params']"
   ]
  },
  {
   "cell_type": "code",
   "execution_count": null,
   "metadata": {},
   "outputs": [],
   "source": []
  }
 ],
 "metadata": {
  "kernelspec": {
   "display_name": "Python 3",
   "language": "python",
   "name": "python3"
  },
  "language_info": {
   "codemirror_mode": {
    "name": "ipython",
    "version": 3
   },
   "file_extension": ".py",
   "mimetype": "text/x-python",
   "name": "python",
   "nbconvert_exporter": "python",
   "pygments_lexer": "ipython3",
   "version": "3.7.0"
  }
 },
 "nbformat": 4,
 "nbformat_minor": 2
}
