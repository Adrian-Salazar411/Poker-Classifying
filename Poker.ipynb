{
 "cells": [
  {
   "cell_type": "code",
   "execution_count": 1,
   "metadata": {},
   "outputs": [],
   "source": [
    "import pandas as pd\n",
    "import seaborn as sns\n",
    "import numpy as np\n",
    "import matplotlib.pyplot as plt\n",
    "from sklearn.metrics import accuracy_score, confusion_matrix,classification_report \n",
    "import lightgbm as lgb\n",
    "import xgboost as xgb\n",
    "from sklearn.preprocessing import LabelEncoder\n",
    "from sklearn.model_selection import StratifiedKFold, KFold, RepeatedKFold, train_test_split, GroupKFold, GroupShuffleSplit,StratifiedShuffleSplit\n",
    "from catboost import CatBoostClassifier\n",
    "from sklearn.ensemble import RandomForestClassifier\n",
    "import warnings\n",
    "warnings.filterwarnings('ignore')\n",
    "from bayes_opt import BayesianOptimization\n",
    "import torch\n",
    "import torch.nn as nn\n",
    "import torch.nn.functional as F"
   ]
  },
  {
   "cell_type": "code",
   "execution_count": 2,
   "metadata": {},
   "outputs": [],
   "source": [
    "test = pd.read_csv('poker-hand-testing.data')\n",
    "train = pd.read_csv('poker-hand-training-true.data')"
   ]
  },
  {
   "cell_type": "code",
   "execution_count": 3,
   "metadata": {
    "scrolled": true
   },
   "outputs": [
    {
     "data": {
      "text/plain": [
       "Text(0.5,0,'Hands')"
      ]
     },
     "execution_count": 3,
     "metadata": {},
     "output_type": "execute_result"
    },
    {
     "data": {
      "image/png": "[encoded data removed]",
      "text/plain": [
       "<Figure size 432x288 with 1 Axes>"
      ]
     },
     "metadata": {
      "needs_background": "light"
     },
     "output_type": "display_data"
    }
   ],
   "source": [
    "#From the count plot we can see that there is a really big class imbalance in the training data set.\n",
    "#In order to deal with this, a stratifiedshuffle split will be used on our dataset to ensure that \n",
    "#at least some of the samples make it into both the training and validation sets.\n",
    "sns.countplot('9',data=train)\n",
    "plt.xlabel('Hands')"
   ]
  },
  {
   "cell_type": "code",
   "execution_count": 4,
   "metadata": {},
   "outputs": [
    {
     "data": {
      "text/plain": [
       "0    0.499540\n",
       "1    0.423807\n",
       "2    0.048223\n",
       "3    0.020513\n",
       "4    0.003719\n",
       "5    0.002159\n",
       "6    0.001439\n",
       "7    0.000240\n",
       "8    0.000200\n",
       "9    0.000160\n",
       "Name: 9, dtype: float64"
      ]
     },
     "execution_count": 4,
     "metadata": {},
     "output_type": "execute_result"
    }
   ],
   "source": [
    "train['9'].value_counts()/len(train)"
   ]
  },
  {
   "cell_type": "code",
   "execution_count": 52,
   "metadata": {},
   "outputs": [],
   "source": [
    "y = train['9']\n",
    "X = train.drop('9',axis=1)\n",
    "folds = StratifiedShuffleSplit(n_splits=4, test_size=0.2)"
   ]
  },
  {
   "cell_type": "code",
   "execution_count": 53,
   "metadata": {},
   "outputs": [],
   "source": [
    "def lgbm_evaluate(**params):\n",
    "    warnings.simplefilter('ignore')\n",
    "    \n",
    "    params['num_leaves'] = int(params['num_leaves'])\n",
    "    params['max_depth'] = int(params['max_depth'])\n",
    "        \n",
    "    clf = lgb.LGBMClassifier(**params, n_estimators=20000, nthread=-1)\n",
    "\n",
    "    test_pred_proba = np.zeros((train.shape[0], 10))\n",
    "    \n",
    "    for n_fold, (train_idx, valid_idx) in enumerate(folds.split(train, y)):\n",
    "        X_train, X_valid = X.iloc[train_idx], X.iloc[valid_idx]\n",
    "        y_train, y_valid = y.iloc[train_idx], y.iloc[valid_idx]\n",
    "        \n",
    "        model = lgb.LGBMClassifier(**params, n_estimators = 10000, n_jobs = -1)\n",
    "        model.fit(X_train, y_train, \n",
    "                eval_set=[(X_train, y_train), (X_valid, y_valid)], eval_metric='multi_logloss',\n",
    "                verbose=False, early_stopping_rounds=200)\n",
    "\n",
    "        y_pred_valid = model.predict_proba(X_valid)\n",
    "\n",
    "        test_pred_proba[valid_idx] = y_pred_valid\n",
    "\n",
    "    return accuracy_score(y_valid, y_pred_valid.argmax(1))"
   ]
  },
  {
   "cell_type": "code",
   "execution_count": 54,
   "metadata": {},
   "outputs": [],
   "source": [
    "# params = {'colsample_bytree': (0.6, 0.8),\n",
    "#       'learning_rate': (.0001, .5), \n",
    "#       'num_leaves': (2, 124), \n",
    "#       'subsample': (0.6, 1), \n",
    "#       'max_depth': (3, 120), \n",
    "#       'reg_alpha': (.001, 15.0), \n",
    "#       'reg_lambda': (.001, 15.0), \n",
    "#       'min_split_gain': (.001, .03),\n",
    "#       'min_child_weight': (2, 80)}\n",
    "\n",
    "# bo = BayesianOptimization(lgbm_evaluate, params)\n",
    "# bo.maximize(init_points=5, n_iter=10)"
   ]
  },
  {
   "cell_type": "code",
   "execution_count": 55,
   "metadata": {},
   "outputs": [],
   "source": [
    "# params = bo.max['params']\n",
    "# params['num_leaves'] = 4\n",
    "# params['max_depth'] =5\n",
    "# test_pred_proba = np.zeros((train.shape[0], 10))\n",
    "# folds = StratifiedShuffleSplit(n_splits=4, test_size=0.2)\n",
    "# for n_fold, (train_idx, valid_idx) in enumerate(folds.split(train, y)):\n",
    "#         X_train, X_valid = X.iloc[train_idx], X.iloc[valid_idx]\n",
    "#         y_train, y_valid = y.iloc[train_idx], y.iloc[valid_idx]\n",
    "        \n",
    "#         model = lgb.LGBMClassifier(**params, n_estimators = 10000, n_jobs = -1)\n",
    "#         model.fit(X_train, y_train, \n",
    "#                 eval_set=[(X_train, y_train), (X_valid, y_valid)], eval_metric='multi_logloss',\n",
    "#                 verbose=False, early_stopping_rounds=200)\n",
    "\n",
    "#         y_pred_valid = model.predict_proba(X_valid)\n",
    "\n",
    "#         test_pred_proba[valid_idx] = y_pred_valid\n",
    "\n",
    "#         print(accuracy_score(y_valid, y_pred_valid.argmax(1)))"
   ]
  },
  {
   "cell_type": "code",
   "execution_count": 56,
   "metadata": {},
   "outputs": [],
   "source": [
    "# y = test['0']\n",
    "# X = test.drop('0',axis=1)\n",
    "# test_pred_proba = np.zeros((test.shape[0], 10))\n",
    "# y_pred_valid = model.predict_proba(X)\n",
    "# #test_pred_proba[valid_idx] = y_pred_valid\n",
    "# print(accuracy_score(y, y_pred_valid.argmax(1)))"
   ]
  },
  {
   "cell_type": "code",
   "execution_count": 57,
   "metadata": {},
   "outputs": [],
   "source": [
    "# cm = confusion_matrix(y,y_pred_valid.argmax(1))\n",
    "# df_cm = pd.DataFrame(cm)\n",
    "# plt.figure(figsize = (15,10))\n",
    "# sns.heatmap(df_cm, annot=True, cmap = 'magma', fmt='g')"
   ]
  },
  {
   "cell_type": "code",
   "execution_count": 58,
   "metadata": {},
   "outputs": [],
   "source": [
    "# After Bayesian Optimization, the this lightGBM model could only predict ~65.5% accuracy\n",
    "#This could be because random forest struggles with fitting models that have \n",
    "#high class imbalances "
   ]
  },
  {
   "cell_type": "code",
   "execution_count": 59,
   "metadata": {},
   "outputs": [],
   "source": [
    "class NeuralNet(nn.Module):\n",
    "    def __init__(self, input_size, hidden_size, num_classes):\n",
    "        super(NeuralNet, self).__init__()\n",
    "        self.layer1 = nn.Linear(input_size, hidden_size)\n",
    "        self.relu = nn.ReLU()\n",
    "        self.layer2 = nn.Linear(hidden_size, num_classes)\n",
    "        self.softmax1 = nn.Softmax()\n",
    "    def forward(self, x):\n",
    "        out = self.layer1(x)\n",
    "        out = self.relu(out)\n",
    "        out = self.layer2(out)\n",
    "        out = self.softmax1(out)\n",
    "        return out"
   ]
  },
  {
   "cell_type": "code",
   "execution_count": 60,
   "metadata": {},
   "outputs": [],
   "source": [
    "model = NeuralNet(10,16,10)\n",
    "optimizer = torch.optim.SGD(model.parameters(), lr=0.01)\n",
    "criterion = torch.nn.CrossEntropyLoss()"
   ]
  },
  {
   "cell_type": "code",
   "execution_count": 61,
   "metadata": {},
   "outputs": [],
   "source": [
    "X_train = torch.from_numpy(X.values.astype(np.float32))\n",
    "y = torch.from_numpy(y.values)"
   ]
  },
  {
   "cell_type": "code",
   "execution_count": 62,
   "metadata": {},
   "outputs": [
    {
     "name": "stdout",
     "output_type": "stream",
     "text": [
      "epoch:  0  loss:  2.328730344772339\n",
      "epoch:  1  loss:  2.3209283351898193\n",
      "epoch:  2  loss:  2.312237024307251\n",
      "epoch:  3  loss:  2.302582025527954\n",
      "epoch:  4  loss:  2.2919273376464844\n",
      "epoch:  5  loss:  2.280221939086914\n",
      "epoch:  6  loss:  2.2675318717956543\n",
      "epoch:  7  loss:  2.254004716873169\n",
      "epoch:  8  loss:  2.239858388900757\n",
      "epoch:  9  loss:  2.225396156311035\n",
      "epoch:  10  loss:  2.2110037803649902\n",
      "epoch:  11  loss:  2.1970131397247314\n",
      "epoch:  12  loss:  2.1837239265441895\n",
      "epoch:  13  loss:  2.1713805198669434\n",
      "epoch:  14  loss:  2.1601040363311768\n",
      "epoch:  15  loss:  2.1498968601226807\n",
      "epoch:  16  loss:  2.140781879425049\n",
      "epoch:  17  loss:  2.1326687335968018\n",
      "epoch:  18  loss:  2.125448226928711\n",
      "epoch:  19  loss:  2.119048833847046\n",
      "epoch:  20  loss:  2.113369941711426\n",
      "epoch:  21  loss:  2.1083109378814697\n",
      "epoch:  22  loss:  2.103803873062134\n",
      "epoch:  23  loss:  2.099762439727783\n",
      "epoch:  24  loss:  2.0961227416992188\n",
      "epoch:  25  loss:  2.0928597450256348\n",
      "epoch:  26  loss:  2.0899014472961426\n",
      "epoch:  27  loss:  2.0872154235839844\n",
      "epoch:  28  loss:  2.084784507751465\n",
      "epoch:  29  loss:  2.0825514793395996\n",
      "epoch:  30  loss:  2.080500364303589\n",
      "epoch:  31  loss:  2.078620195388794\n",
      "epoch:  32  loss:  2.0768918991088867\n",
      "epoch:  33  loss:  2.0752968788146973\n",
      "epoch:  34  loss:  2.073828935623169\n",
      "epoch:  35  loss:  2.072445869445801\n",
      "epoch:  36  loss:  2.0711700916290283\n",
      "epoch:  37  loss:  2.069988965988159\n",
      "epoch:  38  loss:  2.0688672065734863\n",
      "epoch:  39  loss:  2.0678186416625977\n",
      "epoch:  40  loss:  2.0668253898620605\n",
      "epoch:  41  loss:  2.0659196376800537\n",
      "epoch:  42  loss:  2.0650599002838135\n",
      "epoch:  43  loss:  2.064241647720337\n",
      "epoch:  44  loss:  2.0634608268737793\n",
      "epoch:  45  loss:  2.0627353191375732\n",
      "epoch:  46  loss:  2.062051773071289\n",
      "epoch:  47  loss:  2.0613973140716553\n",
      "epoch:  48  loss:  2.0607757568359375\n",
      "epoch:  49  loss:  2.0601911544799805\n"
     ]
    }
   ],
   "source": [
    "\n",
    "for epoch in range(50):\n",
    "    # Forward Propagation\n",
    "    y_pred = model(X_train)\n",
    "    # Compute and print loss\n",
    "    loss = criterion(y_pred, y)\n",
    "    print('epoch: ', epoch,' loss: ', loss.item())\n",
    "    # Zero the gradients\n",
    "    optimizer.zero_grad()\n",
    "    \n",
    "    # perform a backward pass (backpropagation)\n",
    "    loss.backward()\n",
    "    \n",
    "    # Update the parameters\n",
    "    optimizer.step()"
   ]
  },
  {
   "cell_type": "code",
   "execution_count": 63,
   "metadata": {},
   "outputs": [],
   "source": [
    "X_test = torch.from_numpy(test.drop('0',axis=1).values.astype(np.float32))\n",
    "y_test = torch.from_numpy(test['0'].values)"
   ]
  },
  {
   "cell_type": "code",
   "execution_count": 69,
   "metadata": {},
   "outputs": [],
   "source": [
    "y_pred = model(X_test)"
   ]
  },
  {
   "cell_type": "code",
   "execution_count": 100,
   "metadata": {},
   "outputs": [
    {
     "ename": "AttributeError",
     "evalue": "'numpy.ndarray' object has no attribute 'value_counts'",
     "output_type": "error",
     "traceback": [
      "\u001b[1;31m---------------------------------------------------------------------------\u001b[0m",
      "\u001b[1;31mAttributeError\u001b[0m                            Traceback (most recent call last)",
      "\u001b[1;32m<ipython-input-100-742409076f26>\u001b[0m in \u001b[0;36m<module>\u001b[1;34m\u001b[0m\n\u001b[1;32m----> 1\u001b[1;33m \u001b[0mtorch\u001b[0m\u001b[1;33m.\u001b[0m\u001b[0mTensor\u001b[0m\u001b[1;33m.\u001b[0m\u001b[0mnumpy\u001b[0m\u001b[1;33m(\u001b[0m\u001b[0mtorch\u001b[0m\u001b[1;33m.\u001b[0m\u001b[0mmax\u001b[0m\u001b[1;33m(\u001b[0m\u001b[0my_pred\u001b[0m\u001b[1;33m,\u001b[0m\u001b[1;36m1\u001b[0m\u001b[1;33m)\u001b[0m\u001b[1;33m[\u001b[0m\u001b[1;36m1\u001b[0m\u001b[1;33m]\u001b[0m\u001b[1;33m)\u001b[0m\u001b[1;33m.\u001b[0m\u001b[0mvalue_counts\u001b[0m\u001b[1;33m\u001b[0m\u001b[1;33m\u001b[0m\u001b[0m\n\u001b[0m",
      "\u001b[1;31mAttributeError\u001b[0m: 'numpy.ndarray' object has no attribute 'value_counts'"
     ]
    }
   ],
   "source": [
    "torch.Tensor.numpy(torch.max(y_pred,1)[1])"
   ]
  },
  {
   "cell_type": "code",
   "execution_count": null,
   "metadata": {},
   "outputs": [],
   "source": []
  }
 ],
 "metadata": {
  "kernelspec": {
   "display_name": "Python 3",
   "language": "python",
   "name": "python3"
  },
  "language_info": {
   "codemirror_mode": {
    "name": "ipython",
    "version": 3
   },
   "file_extension": ".py",
   "mimetype": "text/x-python",
   "name": "python",
   "nbconvert_exporter": "python",
   "pygments_lexer": "ipython3",
   "version": "3.6.8"
  }
 },
 "nbformat": 4,
 "nbformat_minor": 2
}
